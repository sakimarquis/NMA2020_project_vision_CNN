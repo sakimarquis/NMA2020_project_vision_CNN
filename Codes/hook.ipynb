{
  "nbformat": 4,
  "nbformat_minor": 0,
  "metadata": {
    "kernelspec": {
      "display_name": "Python 3",
      "language": "python",
      "name": "python3"
    },
    "language_info": {
      "codemirror_mode": {
        "name": "ipython",
        "version": 3
      },
      "file_extension": ".py",
      "mimetype": "text/x-python",
      "name": "python",
      "nbconvert_exporter": "python",
      "pygments_lexer": "ipython3",
      "version": "3.6.8"
    },
    "colab": {
      "name": "hook.ipynb",
      "provenance": [],
      "collapsed_sections": []
    }
  },
  "cells": [
    {
      "cell_type": "code",
      "metadata": {
        "id": "Phob6AdntHN-",
        "colab_type": "code",
        "colab": {}
      },
      "source": [
        "import torch\n",
        "import torch.nn as nn\n",
        "import numpy as np\n",
        "import torchvision\n",
        "from torchvision import datasets, models, transforms\n",
        "import os"
      ],
      "execution_count": null,
      "outputs": []
    },
    {
      "cell_type": "code",
      "metadata": {
        "id": "DuHjH0Ewtftq",
        "colab_type": "code",
        "colab": {
          "base_uri": "https://localhost:8080/",
          "height": 210
        },
        "outputId": "88c2e0f5-76c1-4030-ec90-fd3da18a4462"
      },
      "source": [
        "!wget https://download.pytorch.org/tutorial/hymenoptera_data.zip\n",
        "!unzip -qo hymenoptera_data.zip"
      ],
      "execution_count": null,
      "outputs": [
        {
          "output_type": "stream",
          "text": [
            "--2020-07-27 07:40:03--  https://download.pytorch.org/tutorial/hymenoptera_data.zip\n",
            "Resolving download.pytorch.org (download.pytorch.org)... 13.226.50.63, 13.226.50.98, 13.226.50.24, ...\n",
            "Connecting to download.pytorch.org (download.pytorch.org)|13.226.50.63|:443... connected.\n",
            "HTTP request sent, awaiting response... 200 OK\n",
            "Length: 47286322 (45M) [application/zip]\n",
            "Saving to: ‘hymenoptera_data.zip.3’\n",
            "\n",
            "\rhymenoptera_data.zi   0%[                    ]       0  --.-KB/s               \rhymenoptera_data.zi  14%[=>                  ]   6.35M  31.7MB/s               \rhymenoptera_data.zi  60%[===========>        ]  27.08M  67.6MB/s               \rhymenoptera_data.zi 100%[===================>]  45.10M  80.6MB/s    in 0.6s    \n",
            "\n",
            "2020-07-27 07:40:04 (80.6 MB/s) - ‘hymenoptera_data.zip.3’ saved [47286322/47286322]\n",
            "\n"
          ],
          "name": "stdout"
        }
      ]
    },
    {
      "cell_type": "code",
      "metadata": {
        "id": "_O3HA27I0vCo",
        "colab_type": "code",
        "colab": {}
      },
      "source": [
        "data_transforms = transforms.Compose([\n",
        "                                      transforms.RandomResizedCrop(224),\n",
        "                                      transforms.ToTensor()])\n",
        "\n",
        "data_dir = 'hymenoptera_data//train'\n",
        "image_datasets = datasets.ImageFolder(os.path.join(data_dir), transform=data_transforms)\n",
        "dataloaders = torch.utils.data.DataLoader(image_datasets, batch_size=4, num_workers=4)\n",
        "dat, lab = next(iter(dataloaders))"
      ],
      "execution_count": null,
      "outputs": []
    },
    {
      "cell_type": "code",
      "metadata": {
        "id": "YCQzEM6xtHOW",
        "colab_type": "code",
        "colab": {}
      },
      "source": [
        "model_ft = models.resnet18(pretrained=True)"
      ],
      "execution_count": null,
      "outputs": []
    },
    {
      "cell_type": "code",
      "metadata": {
        "id": "i4Ohr2VnuIsV",
        "colab_type": "code",
        "colab": {
          "base_uri": "https://localhost:8080/",
          "height": 193
        },
        "outputId": "fe69b675-9078-419a-8a4c-964719121bb7"
      },
      "source": [
        "total_feat_out = []\n",
        "\n",
        "def hook_fn_forward(module, input, output):\n",
        "    total_feat_out.append(output) \n",
        "    print(output.shape)\n",
        "\n",
        "modules = model_ft.named_children()\n",
        "handles = {}\n",
        "for name, module in modules:\n",
        "    handles[name] = module.register_forward_hook(hook_fn_forward)\n",
        "\n",
        "model_ft.eval() \n",
        "with torch.no_grad():\n",
        "    pred = model_ft(dat)\n",
        "    for k, v in handles.items():\n",
        "        handles[k].remove()"
      ],
      "execution_count": null,
      "outputs": [
        {
          "output_type": "stream",
          "text": [
            "torch.Size([4, 64, 112, 112])\n",
            "torch.Size([4, 64, 112, 112])\n",
            "torch.Size([4, 64, 112, 112])\n",
            "torch.Size([4, 64, 56, 56])\n",
            "torch.Size([4, 64, 56, 56])\n",
            "torch.Size([4, 128, 28, 28])\n",
            "torch.Size([4, 256, 14, 14])\n",
            "torch.Size([4, 512, 7, 7])\n",
            "torch.Size([4, 512, 1, 1])\n",
            "torch.Size([4, 1000])\n"
          ],
          "name": "stdout"
        }
      ]
    },
    {
      "cell_type": "code",
      "metadata": {
        "id": "gDtjp45-uSHl",
        "colab_type": "code",
        "colab": {
          "base_uri": "https://localhost:8080/",
          "height": 34
        },
        "outputId": "2650f27d-4cc0-4729-aa70-991143bb6785"
      },
      "source": [
        "print(len(total_feat_out))"
      ],
      "execution_count": null,
      "outputs": [
        {
          "output_type": "stream",
          "text": [
            "10\n"
          ],
          "name": "stdout"
        }
      ]
    },
    {
      "cell_type": "code",
      "metadata": {
        "id": "drZIm4PzBE3v",
        "colab_type": "code",
        "colab": {}
      },
      "source": [
        ""
      ],
      "execution_count": null,
      "outputs": []
    }
  ]
}