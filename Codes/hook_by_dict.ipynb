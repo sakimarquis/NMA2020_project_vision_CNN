{
  "nbformat": 4,
  "nbformat_minor": 0,
  "metadata": {
    "kernelspec": {
      "display_name": "Python 3",
      "language": "python",
      "name": "python3"
    },
    "language_info": {
      "codemirror_mode": {
        "name": "ipython",
        "version": 3
      },
      "file_extension": ".py",
      "mimetype": "text/x-python",
      "name": "python",
      "nbconvert_exporter": "python",
      "pygments_lexer": "ipython3",
      "version": "3.6.8"
    },
    "colab": {
      "name": "hook_by_dict.ipynb",
      "provenance": [],
      "collapsed_sections": []
    }
  },
  "cells": [
    {
      "cell_type": "code",
      "metadata": {
        "id": "Phob6AdntHN-",
        "colab_type": "code",
        "colab": {}
      },
      "source": [
        "import torch\n",
        "import torch.nn as nn\n",
        "import numpy as np\n",
        "import torchvision\n",
        "from torchvision import datasets, models, transforms\n",
        "import os"
      ],
      "execution_count": null,
      "outputs": []
    },
    {
      "cell_type": "code",
      "metadata": {
        "id": "DuHjH0Ewtftq",
        "colab_type": "code",
        "colab": {
          "base_uri": "https://localhost:8080/",
          "height": 210
        },
        "outputId": "e990d138-e1c9-435a-fa82-79829c9d3588"
      },
      "source": [
        "!wget https://download.pytorch.org/tutorial/hymenoptera_data.zip\n",
        "!unzip -qo hymenoptera_data.zip"
      ],
      "execution_count": null,
      "outputs": [
        {
          "output_type": "stream",
          "text": [
            "--2020-07-27 07:17:27--  https://download.pytorch.org/tutorial/hymenoptera_data.zip\n",
            "Resolving download.pytorch.org (download.pytorch.org)... 13.224.153.12, 13.224.153.31, 13.224.153.85, ...\n",
            "Connecting to download.pytorch.org (download.pytorch.org)|13.224.153.12|:443... connected.\n",
            "HTTP request sent, awaiting response... 200 OK\n",
            "Length: 47286322 (45M) [application/zip]\n",
            "Saving to: ‘hymenoptera_data.zip.2’\n",
            "\n",
            "\rhymenoptera_data.zi   0%[                    ]       0  --.-KB/s               \rhymenoptera_data.zi  59%[==========>         ]  26.81M   134MB/s               \rhymenoptera_data.zi 100%[===================>]  45.10M   158MB/s    in 0.3s    \n",
            "\n",
            "2020-07-27 07:17:27 (158 MB/s) - ‘hymenoptera_data.zip.2’ saved [47286322/47286322]\n",
            "\n"
          ],
          "name": "stdout"
        }
      ]
    },
    {
      "cell_type": "code",
      "metadata": {
        "id": "_O3HA27I0vCo",
        "colab_type": "code",
        "colab": {}
      },
      "source": [
        "data_transforms = transforms.Compose([\n",
        "                                      transforms.RandomResizedCrop(224),\n",
        "                                      transforms.ToTensor()])\n",
        "\n",
        "data_dir = 'hymenoptera_data//train'\n",
        "image_datasets = datasets.ImageFolder(os.path.join(data_dir), transform=data_transforms)\n",
        "dataloaders = torch.utils.data.DataLoader(image_datasets, batch_size=4, num_workers=4)\n",
        "dat, lab = next(iter(dataloaders))"
      ],
      "execution_count": null,
      "outputs": []
    },
    {
      "cell_type": "code",
      "metadata": {
        "id": "YCQzEM6xtHOW",
        "colab_type": "code",
        "colab": {}
      },
      "source": [
        "model_ft = models.resnet18(pretrained=True)"
      ],
      "execution_count": null,
      "outputs": []
    },
    {
      "cell_type": "code",
      "metadata": {
        "id": "i4Ohr2VnuIsV",
        "colab_type": "code",
        "colab": {}
      },
      "source": [
        "feature_out = {}\n",
        "layers_name = list(model_ft._modules.keys())\n",
        "layers = list(model_ft._modules.values())\n",
        "\n",
        "def hook_fn_forward(module, input, output):\n",
        "    layer_name = layers_name[np.argwhere([module == m for m in layers])[0, 0]]\n",
        "    total_feat_out[layer_name] = output\n",
        "    \n",
        "modules = model_ft.named_children()\n",
        "for name, module in modules:\n",
        "    module.register_forward_hook(hook_fn_forward)\n",
        "\n",
        "model_ft.eval() \n",
        "with torch.no_grad():\n",
        "    pred = model_ft(dat)"
      ],
      "execution_count": null,
      "outputs": []
    },
    {
      "cell_type": "code",
      "metadata": {
        "id": "gDtjp45-uSHl",
        "colab_type": "code",
        "colab": {
          "base_uri": "https://localhost:8080/",
          "height": 34
        },
        "outputId": "460c38ce-b442-471b-84b7-941069733848"
      },
      "source": [
        "total_feat_out.keys()"
      ],
      "execution_count": null,
      "outputs": [
        {
          "output_type": "execute_result",
          "data": {
            "text/plain": [
              "dict_keys(['conv1', 'bn1', 'relu', 'maxpool', 'layer1', 'layer2', 'layer3', 'layer4', 'avgpool', 'fc'])"
            ]
          },
          "metadata": {
            "tags": []
          },
          "execution_count": 38
        }
      ]
    },
    {
      "cell_type": "code",
      "metadata": {
        "id": "drZIm4PzBE3v",
        "colab_type": "code",
        "colab": {}
      },
      "source": [
        ""
      ],
      "execution_count": null,
      "outputs": []
    }
  ]
}